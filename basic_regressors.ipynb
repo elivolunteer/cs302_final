{
 "cells": [
  {
   "cell_type": "code",
   "execution_count": 1,
   "metadata": {},
   "outputs": [],
   "source": [
    "import json\n",
    "import matplotlib as mpl\n",
    "import numpy as np\n",
    "import sklearn as skl"
   ]
  },
  {
   "cell_type": "markdown",
   "metadata": {},
   "source": [
    "## Read and preprocess data from json"
   ]
  },
  {
   "cell_type": "code",
   "execution_count": 2,
   "metadata": {},
   "outputs": [],
   "source": [
    "sent_f = open(\"data/sentiment_data.json\")\n",
    "twitter_f = open(\"data/tweets.json\")\n",
    "google_dict = json.load(sent_f)\n",
    "twitter_dict = json.load(twitter_f)"
   ]
  },
  {
   "cell_type": "code",
   "execution_count": 4,
   "metadata": {},
   "outputs": [],
   "source": [
    "Xs = np.array(list(twitter_dict.values()))\n",
    "Ys = []\n",
    "for id in google_dict.keys():\n",
    "    Ys.append(google_dict[id][\"Score\"])\n",
    "Ys = np.array(Ys)\n",
    "Ys = (Ys*10).astype(int)"
   ]
  },
  {
   "cell_type": "markdown",
   "metadata": {},
   "source": [
    "#### Create train test split"
   ]
  },
  {
   "cell_type": "code",
   "execution_count": 8,
   "metadata": {},
   "outputs": [],
   "source": [
    "from sklearn.model_selection import train_test_split\n",
    "X_train, X_test, y_train, y_test = train_test_split(Xs, Ys, test_size=0.15)"
   ]
  },
  {
   "cell_type": "markdown",
   "metadata": {},
   "source": [
    "#### Vectorize strings so they can go into models"
   ]
  },
  {
   "cell_type": "code",
   "execution_count": 9,
   "metadata": {},
   "outputs": [],
   "source": [
    "from sklearn.feature_extraction.text import CountVectorizer\n",
    "\n",
    "vectorizer = CountVectorizer()\n",
    "vectorizer.fit(X_train)\n",
    "\n",
    "X_train = vectorizer.transform(X_train)\n",
    "X_test  = vectorizer.transform(X_test)"
   ]
  },
  {
   "cell_type": "markdown",
   "metadata": {},
   "source": [
    "#### Create baseline data set"
   ]
  },
  {
   "cell_type": "code",
   "execution_count": 12,
   "metadata": {},
   "outputs": [
    {
     "name": "stdout",
     "output_type": "stream",
     "text": [
      "(195, 3557)\n"
     ]
    }
   ],
   "source": [
    "print(np.shape(X_test))"
   ]
  },
  {
   "cell_type": "code",
   "execution_count": 16,
   "metadata": {},
   "outputs": [],
   "source": [
    "rand_X = np.random.randint(low=-10, high=10, size=np.shape(X_test))"
   ]
  },
  {
   "cell_type": "markdown",
   "metadata": {},
   "source": [
    "## Linear Regression"
   ]
  },
  {
   "cell_type": "code",
   "execution_count": 19,
   "metadata": {},
   "outputs": [
    {
     "name": "stdout",
     "output_type": "stream",
     "text": [
      "Mean squared error: 3.81\n",
      "Coefficient of determination (r2): 0.64\n",
      "Baseline r2: -2189.614496142303\n"
     ]
    }
   ],
   "source": [
    "from sklearn.linear_model import LinearRegression\n",
    "regr = LinearRegression()\n",
    "regr.fit(X_train, y_train)\n",
    "y_pred = regr.predict(X_test)\n",
    "rand_pred = regr.predict(rand_X)\n",
    "\n",
    "print(\"Mean squared error: %.2f\" % skl.metrics.mean_squared_error(y_test, y_pred))\n",
    "print(\"Coefficient of determination (r2): %.2f\" % skl.metrics.r2_score(y_test, y_pred))\n",
    "print(f\"Baseline r2: {skl.metrics.r2_score(y_test,rand_pred)}\")"
   ]
  },
  {
   "cell_type": "markdown",
   "metadata": {},
   "source": [
    "## Support Vector Machine"
   ]
  },
  {
   "cell_type": "code",
   "execution_count": 20,
   "metadata": {},
   "outputs": [
    {
     "name": "stdout",
     "output_type": "stream",
     "text": [
      "Mean squared error: 5.02\n",
      "Coefficient of determination (r2): 0.52\n",
      "Baseline r2: -0.11620441976420581\n"
     ]
    }
   ],
   "source": [
    "from sklearn.svm import SVR\n",
    "regr = SVR()\n",
    "regr.fit(X_train, y_train)\n",
    "y_pred = regr.predict(X_test)\n",
    "rand_pred = regr.predict(rand_X)\n",
    "\n",
    "print(\"Mean squared error: %.2f\" % skl.metrics.mean_squared_error(y_test, y_pred))\n",
    "print(\"Coefficient of determination (r2): %.2f\" % skl.metrics.r2_score(y_test, y_pred))\n",
    "print(f\"Baseline r2: {skl.metrics.r2_score(y_test,rand_pred)}\")\n"
   ]
  },
  {
   "cell_type": "markdown",
   "metadata": {},
   "source": [
    "## XGBoost"
   ]
  },
  {
   "cell_type": "code",
   "execution_count": 21,
   "metadata": {},
   "outputs": [
    {
     "name": "stdout",
     "output_type": "stream",
     "text": [
      "Mean squared error: 4.08\n",
      "Coefficient of determination (r2): 0.61\n",
      "Baseline r2: -3.1948970085907638\n"
     ]
    }
   ],
   "source": [
    "from xgboost.sklearn import XGBRegressor\n",
    "regr = XGBRegressor(verbosity=0)\n",
    "regr.fit(X_train, y_train)\n",
    "y_pred = regr.predict(X_test)\n",
    "rand_pred = regr.predict(rand_X)\n",
    "\n",
    "print(\"Mean squared error: %.2f\" % skl.metrics.mean_squared_error(y_test, y_pred))\n",
    "print(\"Coefficient of determination (r2): %.2f\" % skl.metrics.r2_score(y_test, y_pred))\n",
    "print(f\"Baseline r2: {skl.metrics.r2_score(y_test,rand_pred)}\")"
   ]
  },
  {
   "cell_type": "code",
   "execution_count": null,
   "metadata": {},
   "outputs": [],
   "source": []
  }
 ],
 "metadata": {
  "interpreter": {
   "hash": "c96891ec660757b7548aef4d8493e458502bcabd48553885c8aefea816eacf2c"
  },
  "kernelspec": {
   "display_name": "Python 3.9.7 64-bit ('302_final': conda)",
   "name": "python3"
  },
  "language_info": {
   "codemirror_mode": {
    "name": "ipython",
    "version": 3
   },
   "file_extension": ".py",
   "mimetype": "text/x-python",
   "name": "python",
   "nbconvert_exporter": "python",
   "pygments_lexer": "ipython3",
   "version": "3.9.7"
  },
  "orig_nbformat": 4
 },
 "nbformat": 4,
 "nbformat_minor": 2
}
