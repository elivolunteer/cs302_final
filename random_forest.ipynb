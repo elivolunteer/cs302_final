{
 "cells": [
  {
   "cell_type": "code",
   "execution_count": 35,
   "metadata": {},
   "outputs": [],
   "source": [
    "import json\n",
    "import matplotlib.pyplot as plt\n",
    "import numpy as np\n",
    "import sklearn as skl\n",
    "plt.style.use('fivethirtyeight')"
   ]
  },
  {
   "cell_type": "markdown",
   "metadata": {},
   "source": [
    "## Read and preprocess data from json"
   ]
  },
  {
   "cell_type": "code",
   "execution_count": 3,
   "metadata": {},
   "outputs": [],
   "source": [
    "sent_f = open(\"data/sentiment_data.json\")\n",
    "twitter_f = open(\"data/tweets.json\")\n",
    "google_dict = json.load(sent_f)\n",
    "twitter_dict = json.load(twitter_f)"
   ]
  },
  {
   "cell_type": "code",
   "execution_count": 4,
   "metadata": {},
   "outputs": [],
   "source": [
    "Xs = np.array(list(twitter_dict.values()))\n",
    "Ys = []\n",
    "for id in google_dict.keys():\n",
    "    Ys.append(google_dict[id][\"Score\"])\n",
    "Ys = np.array(Ys)\n",
    "Ys = (Ys*10).astype(int)"
   ]
  },
  {
   "cell_type": "markdown",
   "metadata": {},
   "source": [
    "#### Create train test split"
   ]
  },
  {
   "cell_type": "code",
   "execution_count": 5,
   "metadata": {},
   "outputs": [],
   "source": [
    "from sklearn.model_selection import train_test_split\n",
    "X_train, X_test, y_train, y_test = train_test_split(Xs, Ys, test_size=0.15)"
   ]
  },
  {
   "cell_type": "markdown",
   "metadata": {},
   "source": [
    "#### Vectorize strings so they can go into models"
   ]
  },
  {
   "cell_type": "code",
   "execution_count": 6,
   "metadata": {},
   "outputs": [],
   "source": [
    "from sklearn.feature_extraction.text import CountVectorizer\n",
    "\n",
    "vectorizer = CountVectorizer()\n",
    "vectorizer.fit(X_train)\n",
    "\n",
    "X_train = vectorizer.transform(X_train)\n",
    "X_test  = vectorizer.transform(X_test)"
   ]
  },
  {
   "cell_type": "markdown",
   "metadata": {},
   "source": [
    "#### Create baseline data set"
   ]
  },
  {
   "cell_type": "code",
   "execution_count": 7,
   "metadata": {},
   "outputs": [],
   "source": [
    "rand_X = np.random.randint(low=-10, high=10, size=np.shape(X_test))"
   ]
  },
  {
   "cell_type": "markdown",
   "metadata": {},
   "source": [
    "## Random Forest"
   ]
  },
  {
   "cell_type": "code",
   "execution_count": 10,
   "metadata": {},
   "outputs": [
    {
     "name": "stdout",
     "output_type": "stream",
     "text": [
      "Mean squared error: 4.51\n",
      "Coefficient of determination (r2): 0.62\n",
      "Baseline r2: -0.2676205499618176\n"
     ]
    }
   ],
   "source": [
    "from sklearn.ensemble import RandomForestRegressor\n",
    "\n",
    "regr = RandomForestRegressor(n_estimators = 100, random_state = 0)\n",
    "regr.fit(X_train, y_train)\n",
    "y_pred = regr.predict(X_test)\n",
    "rand_pred = regr.predict(rand_X)\n",
    "\n",
    "print(\"Mean squared error: %.2f\" % skl.metrics.mean_squared_error(y_test, y_pred))\n",
    "print(\"Coefficient of determination (r2): %.2f\" % skl.metrics.r2_score(y_test, y_pred))\n",
    "print(f\"Baseline r2: {skl.metrics.r2_score(y_test,rand_pred)}\")"
   ]
  },
  {
   "cell_type": "markdown",
   "metadata": {},
   "source": [
    "#### Lets try some grid search with n_estimators changing "
   ]
  },
  {
   "cell_type": "code",
   "execution_count": 37,
   "metadata": {},
   "outputs": [
    {
     "name": "stdout",
     "output_type": "stream",
     "text": [
      "Fitting 3 folds for each of 2 candidates, totalling 6 fits\n",
      "[CV] END .....................................n_estimators=1; total time=   0.1s\n",
      "[CV] END .....................................n_estimators=1; total time=   0.1s\n",
      "[CV] END .....................................n_estimators=1; total time=   0.1s\n",
      "[CV] END ....................................n_estimators=21; total time=   0.6s\n",
      "[CV] END ....................................n_estimators=21; total time=   0.7s\n",
      "[CV] END ....................................n_estimators=21; total time=   0.6s\n",
      "Mean squared error: 4.57\n",
      "Coefficient of determination (r2): 0.62\n",
      "Baseline r2: -0.36558508317007665\n"
     ]
    }
   ],
   "source": [
    "from sklearn.model_selection import cross_val_score, GridSearchCV\n",
    "from sklearn.preprocessing import MinMaxScaler\n",
    "\n",
    "gsc = GridSearchCV(\n",
    "        estimator=RandomForestRegressor(),\n",
    "        param_grid={\n",
    "            #'max_depth': range(3,7),\n",
    "            'n_estimators': [int(x) for x in np.linspace(1,21,10)],\n",
    "        },\n",
    "        cv=3, scoring='neg_mean_squared_error', verbose=2, n_jobs=-1)\n",
    "    \n",
    "grid_result = gsc.fit(X_train, y_train)\n",
    "best_params = grid_result.best_params_\n",
    "regr = RandomForestRegressor(n_estimators=best_params[\"n_estimators\"], random_state=False, verbose=False)\n",
    "regr.fit(X_train, y_train)\n",
    "y_pred = regr.predict(X_test)\n",
    "rand_pred = regr.predict(rand_X)\n",
    "\n",
    "print(\"Mean squared error: %.2f\" % skl.metrics.mean_squared_error(y_test, y_pred))\n",
    "print(\"Coefficient of determination (r2): %.2f\" % skl.metrics.r2_score(y_test, y_pred))\n",
    "print(f\"Baseline r2: {skl.metrics.r2_score(y_test,rand_pred)}\")"
   ]
  },
  {
   "cell_type": "code",
   "execution_count": 38,
   "metadata": {},
   "outputs": [],
   "source": [
    "def plot_results(model, param = 'n_estimators', name = 'Num Trees'):\n",
    "    param_name = 'param_%s' % param\n",
    "\n",
    "    # Extract information from the cross validation model\n",
    "    #train_scores = model.cv_results_['mean_train_score']\n",
    "    test_scores = model.cv_results_['mean_test_score']\n",
    "    train_time = model.cv_results_['mean_fit_time']\n",
    "    param_values = list(model.cv_results_[param_name])\n",
    "    \n",
    "    # Plot the scores over the parameter\n",
    "    plt.subplots(1, 2, figsize=(10, 6))\n",
    "    plt.subplot(121)\n",
    "    #plt.plot(param_values, train_scores, 'bo-', label = 'train')\n",
    "    plt.plot(param_values, test_scores, 'go-', label = 'test')\n",
    "    plt.ylim(ymin = -10, ymax = 0)\n",
    "    plt.legend()\n",
    "    plt.xlabel(name)\n",
    "    plt.ylabel('Neg Mean Absolute Error')\n",
    "    plt.title('Score vs %s' % name)\n",
    "    \n",
    "    plt.subplot(122)\n",
    "    plt.plot(param_values, train_time, 'ro-')\n",
    "    plt.ylim(ymin = 0.0, ymax = 2.0)\n",
    "    plt.xlabel(name)\n",
    "    plt.ylabel('Train Time (sec)')\n",
    "    plt.title('Training Time vs %s' % name)\n",
    "    \n",
    "    \n",
    "    plt.tight_layout(pad = 4)"
   ]
  },
  {
   "cell_type": "code",
   "execution_count": 39,
   "metadata": {},
   "outputs": [
    {
     "data": {
      "image/png": "[encoded data removed]",
      "text/plain": [
       "<Figure size 720x432 with 2 Axes>"
      ]
     },
     "metadata": {},
     "output_type": "display_data"
    }
   ],
   "source": [
    "plot_results(grid_result)"
   ]
  },
  {
   "cell_type": "code",
   "execution_count": null,
   "metadata": {},
   "outputs": [],
   "source": []
  }
 ],
 "metadata": {
  "interpreter": {
   "hash": "c96891ec660757b7548aef4d8493e458502bcabd48553885c8aefea816eacf2c"
  },
  "kernelspec": {
   "display_name": "Python 3.9.7 64-bit ('302_final': conda)",
   "name": "python3"
  },
  "language_info": {
   "codemirror_mode": {
    "name": "ipython",
    "version": 3
   },
   "file_extension": ".py",
   "mimetype": "text/x-python",
   "name": "python",
   "nbconvert_exporter": "python",
   "pygments_lexer": "ipython3",
   "version": "3.9.7"
  },
  "orig_nbformat": 4
 },
 "nbformat": 4,
 "nbformat_minor": 2
}
